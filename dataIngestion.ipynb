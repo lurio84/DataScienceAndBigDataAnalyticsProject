{
 "cells": [
  {
   "cell_type": "code",
   "execution_count": null,
   "id": "21e59f40",
   "metadata": {},
   "outputs": [
    {
     "name": "stdout",
     "output_type": "stream",
     "text": [
      "Manual ingestion completed. Sample loaded with shape: (99810, 5)\n"
     ]
    }
   ],
   "source": [
    "import pandas as pd\n",
    "\n",
    "# 1. Load a representative sample of the dataset\n",
    "df = pd.read_csv(\n",
    "    \"Project/dataset.csv\", nrows=100000\n",
    ")  # Adjust based on your available RAM\n",
    "\n",
    "# 2. Minimal cleaning\n",
    "df = df.dropna(subset=[\"review_text\"])  # Remove empty reviews\n",
    "df[\"review_text\"] = df[\"review_text\"].astype(str).str.lower()  # Convert to lowercase\n",
    "\n",
    "# 3. (Optional) Save a cleaned copy to CSV for later use\n",
    "df.to_csv(\"Project/clean_sample.csv\", index=False)\n",
    "\n",
    "print(\"Manual ingestion completed. Sample loaded with shape:\", df.shape)"
   ]
  }
 ],
 "metadata": {
  "kernelspec": {
   "display_name": "Python 3 (ipykernel)",
   "language": "python",
   "name": "python3"
  },
  "language_info": {
   "codemirror_mode": {
    "name": "ipython",
    "version": 3
   },
   "file_extension": ".py",
   "mimetype": "text/x-python",
   "name": "python",
   "nbconvert_exporter": "python",
   "pygments_lexer": "ipython3",
   "version": "3.8.10"
  }
 },
 "nbformat": 4,
 "nbformat_minor": 5
}
