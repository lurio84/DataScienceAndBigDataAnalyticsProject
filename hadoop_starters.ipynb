{
 "cells": [
  {
   "cell_type": "code",
   "execution_count": 4,
   "id": "b248457a-349a-4c3c-ab9e-82d446fe0256",
   "metadata": {},
   "outputs": [
    {
     "name": "stdout",
     "output_type": "stream",
     "text": [
      "2569 Jps\n"
     ]
    }
   ],
   "source": [
    "# Veify is hadoop is on \n",
    "!jps\n"
   ]
  },
  {
   "cell_type": "code",
   "execution_count": 5,
   "id": "b3eddbb6-b68b-4a08-8a78-9c7a60369ee9",
   "metadata": {},
   "outputs": [
    {
     "name": "stdout",
     "output_type": "stream",
     "text": [
      "Starting namenodes on [localhost]\n",
      "localhost: starting namenode, logging to /usr/local/hadoop/logs/hadoop-ubuntu-namenode-dsbda-vm.out\n",
      "localhost: starting datanode, logging to /usr/local/hadoop/logs/hadoop-ubuntu-datanode-dsbda-vm.out\n",
      "Starting secondary namenodes [0.0.0.0]\n",
      "0.0.0.0: starting secondarynamenode, logging to /usr/local/hadoop/logs/hadoop-ubuntu-secondarynamenode-dsbda-vm.out\n",
      "starting yarn daemons\n",
      "starting resourcemanager, logging to /usr/local/hadoop/logs/yarn-ubuntu-resourcemanager-dsbda-vm.out\n",
      "localhost: starting nodemanager, logging to /usr/local/hadoop/logs/yarn-ubuntu-nodemanager-dsbda-vm.out\n"
     ]
    }
   ],
   "source": [
    "# I need to initiate hadoop manually if it is not on \n",
    "!start-dfs.sh\n",
    "!start-yarn.sh\n"
   ]
  },
  {
   "cell_type": "code",
   "execution_count": 6,
   "id": "7d2f5175-efff-4cd1-8346-4b0caa0260f4",
   "metadata": {},
   "outputs": [
    {
     "name": "stdout",
     "output_type": "stream",
     "text": [
      "3236 ResourceManager\n",
      "3702 Jps\n",
      "3367 NodeManager\n",
      "2728 NameNode\n",
      "3050 SecondaryNameNode\n",
      "2863 DataNode\n"
     ]
    }
   ],
   "source": [
    "#Verify again if it is running\n",
    "!jps\n"
   ]
  },
  {
   "cell_type": "code",
   "execution_count": 15,
   "id": "a7d54112-9ff8-424f-b0d1-ad91314eb8ce",
   "metadata": {},
   "outputs": [
    {
     "name": "stdout",
     "output_type": "stream",
     "text": [
      "/home/ubuntu/Project\n",
      "ls: cannot access '/Project/': No such file or directory\n"
     ]
    }
   ],
   "source": [
    "#Project rute confirmation\n",
    "!pwd\n",
    "!ls -l /Project/\n"
   ]
  },
  {
   "cell_type": "code",
   "execution_count": null,
   "id": "3cb4b923-65f1-48a2-b904-8e151e878ca5",
   "metadata": {},
   "outputs": [],
   "source": [
    "#load my csv file\n",
    "!hdfs dfs -mkdir -p /user/ubuntu/reviews\n",
    "!hdfs dfs -put /home/ubuntu/Project/clean_sample.csv /user/ubuntu/reviews/\n",
    "\n"
   ]
  },
  {
   "cell_type": "code",
   "execution_count": null,
   "id": "4130c5f0-5f2a-4ea2-97fa-4792e76faab8",
   "metadata": {},
   "outputs": [],
   "source": []
  }
 ],
 "metadata": {
  "kernelspec": {
   "display_name": "Python 3 (ipykernel)",
   "language": "python",
   "name": "python3"
  },
  "language_info": {
   "codemirror_mode": {
    "name": "ipython",
    "version": 3
   },
   "file_extension": ".py",
   "mimetype": "text/x-python",
   "name": "python",
   "nbconvert_exporter": "python",
   "pygments_lexer": "ipython3",
   "version": "3.8.10"
  }
 },
 "nbformat": 4,
 "nbformat_minor": 5
}
