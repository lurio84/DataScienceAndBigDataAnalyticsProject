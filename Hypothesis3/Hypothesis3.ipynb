{
 "cells": [
  {
   "cell_type": "code",
   "execution_count": null,
   "id": "de97f621-90e7-432c-9365-80146ee9c593",
   "metadata": {},
   "outputs": [
    {
     "name": "stderr",
     "output_type": "stream",
     "text": [
      "                                                                                "
     ]
    },
    {
     "name": "stdout",
     "output_type": "stream",
     "text": [
      "+------------------+------------------+---------------------+------------------+\n",
      "|sentiment_combined|avg(word_count)   |avg(lexical_richness)|avg(unique_words) |\n",
      "+------------------+------------------+---------------------+------------------+\n",
      "|positive          |49.0833742202285  |0.8831307326783987   |35.21172986612462 |\n",
      "|negative          |49.249128919860624|0.8737148030759045   |35.652148664343784|\n",
      "+------------------+------------------+---------------------+------------------+\n",
      "\n"
     ]
    },
    {
     "name": "stderr",
     "output_type": "stream",
     "text": [
      "[Stage 24:=============================>                            (1 + 1) / 2]"
     ]
    }
   ],
   "source": [
    "from pyspark.sql import SparkSession\n",
    "from pyspark.sql.functions import col, length, split, size, expr\n",
    "\n",
    "# 1. Start SparkSession\n",
    "spark = SparkSession.builder.appName(\"Hypothesis3\").getOrCreate()\n",
    "\n",
    "# 2. Load the dataset\n",
    "df = spark.read.option(\"header\", True).csv(\"clean_sample.csv\")\n",
    "\n",
    "# 3. Filter for valid sentiment labels (optional, safety check)\n",
    "df = df.filter((col(\"sentiment_combined\") == \"positive\") | (col(\"sentiment_combined\") == \"negative\"))\n",
    "\n",
    "# 4. Add word-level features\n",
    "df = df.withColumn(\"word_list\", split(col(\"review_text\"), \" \"))  # list of words\n",
    "df = df.withColumn(\"word_count\", size(col(\"word_list\")))         # total number of words\n",
    "df = df.withColumn(\"unique_words\", expr(\"size(array_distinct(word_list))\"))  # unique words\n",
    "df = df.withColumn(\"lexical_richness\", col(\"unique_words\") / col(\"word_count\"))  # type-token ratio\n",
    "\n",
    "# 5. Group by sentiment and compute averages\n",
    "agg_df = df.groupBy(\"sentiment_combined\").agg(\n",
    "    {\"word_count\": \"avg\", \"unique_words\": \"avg\", \"lexical_richness\": \"avg\"}\n",
    ")\n",
    "\n",
    "# 6. Show results\n",
    "agg_df.show(truncate=False)\n",
    "\n",
    "#7. Convert to Pandas for easy plotting\n",
    "agg_pd = agg_df.toPandas()\n",
    "\n",
    "#8. Rename for readability\n",
    "agg_pd.columns = ['Sentiment', 'Avg_Word_Count', 'Avg_Lexical_Richness', 'Avg_Unique_Words']\n",
    "\n",
    "#9. Plot lexical richness\n",
    "import matplotlib.pyplot as plt\n",
    "\n",
    "plt.figure(figsize=(6,4))\n",
    "plt.bar(agg_pd['Sentiment'], agg_pd['Avg_Lexical_Richness'], color=['green', 'red'])\n",
    "plt.title(\"Lexical Richness by Sentiment\")\n",
    "plt.ylabel(\"Average Lexical Richness (Unique / Total Words)\")\n",
    "plt.grid(axis=\"y\")\n",
    "plt.tight_layout()\n",
    "plt.show()\n",
    "\n"
   ]
  },
  {
   "cell_type": "code",
   "execution_count": null,
   "id": "100419d1-96f8-42d7-bf3e-6afa644920f0",
   "metadata": {},
   "outputs": [],
   "source": []
  }
 ],
 "metadata": {
  "kernelspec": {
   "display_name": "Python 3 (ipykernel)",
   "language": "python",
   "name": "python3"
  },
  "language_info": {
   "codemirror_mode": {
    "name": "ipython",
    "version": 3
   },
   "file_extension": ".py",
   "mimetype": "text/x-python",
   "name": "python",
   "nbconvert_exporter": "python",
   "pygments_lexer": "ipython3",
   "version": "3.8.10"
  }
 },
 "nbformat": 4,
 "nbformat_minor": 5
}
