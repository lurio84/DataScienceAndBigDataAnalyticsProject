{
 "cells": [
  {
   "cell_type": "code",
   "execution_count": null,
   "id": "c9720aa6-89df-43d7-a684-f02211b58c85",
   "metadata": {},
   "outputs": [],
   "source": [
    "import pandas as pd\n",
    "\n",
    "# 入力ファイル名（例: \"data.csv\"）\n",
    "input_file = 'dataset/dataset.csv'\n",
    "output_file = 'analysis_result/cleaned_data.csv'\n",
    "\n",
    "# CSV読み込み\n",
    "df = pd.read_csv(input_file)\n",
    "\n",
    "# 3列目（0-indexで数えて2番目の列）のみ小文字に変換\n",
    "df.iloc[:, 2] = df.iloc[:, 2].apply(lambda x: x.lower() if isinstance(x, str) else x)\n",
    "\n",
    "# review_score列を0/1に変換（例：1はそのまま1、その他は0に）\n",
    "df['review_score'] = df['review_score'].apply(lambda x: 1 if x == 1 else 0)\n",
    "\n",
    "# 50000行までに制限\n",
    "df_limited = df.head(50000)\n",
    "\n",
    "# 出力ファイルとして保存\n",
    "df_limited.to_csv(output_file, index=False)\n",
    "\n",
    "print(f\"✅ 3列目を小文字に変換し、最大50000行までを '{output_file}' に保存しました。\")\n"
   ]
  },
  {
   "cell_type": "code",
   "execution_count": 6,
   "id": "d70d46ce-373f-4025-86b3-bca83b136539",
   "metadata": {},
   "outputs": [
    {
     "name": "stdout",
     "output_type": "stream",
     "text": [
      "✅ 安全に処理完了：3列目を小文字化し、最大50000行まで保存しました。\n"
     ]
    }
   ],
   "source": [
    "import pandas as pd\n",
    "\n",
    "input_file = 'dataset/dataset.csv'\n",
    "output_file = 'cleaned_data.csv'\n",
    "\n",
    "chunksize = 10000  # 1回に読み込む行数\n",
    "max_rows = 50000   # 書き出す最大行数\n",
    "rows_written = 0\n",
    "first_chunk = True\n",
    "i = 0\n",
    "with open(output_file, 'w', encoding='utf-8', newline='') as out_f:\n",
    "    for chunk in pd.read_csv(input_file, chunksize=chunksize):\n",
    "        i+=1\n",
    "        # 3列目のみ小文字変換\n",
    "        chunk.iloc[:, 2] = chunk.iloc[:, 2].apply(lambda x: x.lower() if isinstance(x, str) else x)\n",
    "        \n",
    "        # 残り必要な行数を計算\n",
    "        remaining = max_rows - rows_written\n",
    "        if remaining <= 0:\n",
    "            break\n",
    "\n",
    "        # 今回出力する部分\n",
    "        to_write = chunk.head(remaining)\n",
    "        to_write.to_csv(out_f, header=first_chunk, index=False)\n",
    "        rows_written += len(to_write)\n",
    "        first_chunk = False\n",
    "\n",
    "        if i%100 == 0:\n",
    "            print(f\"{i}行まで保存完了\")\n",
    "print(f\"✅ 安全に処理完了：3列目を小文字化し、最大{max_rows}行まで保存しました。\")\n"
   ]
  },
  {
   "cell_type": "code",
   "execution_count": null,
   "id": "dcef63ed-7f85-4191-ba82-ebc18107cdea",
   "metadata": {},
   "outputs": [],
   "source": []
  }
 ],
 "metadata": {
  "kernelspec": {
   "display_name": "Python 3 (ipykernel)",
   "language": "python",
   "name": "python3"
  },
  "language_info": {
   "codemirror_mode": {
    "name": "ipython",
    "version": 3
   },
   "file_extension": ".py",
   "mimetype": "text/x-python",
   "name": "python",
   "nbconvert_exporter": "python",
   "pygments_lexer": "ipython3",
   "version": "3.8.10"
  }
 },
 "nbformat": 4,
 "nbformat_minor": 5
}
